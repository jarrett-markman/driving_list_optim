{
  "nbformat": 4,
  "nbformat_minor": 0,
  "metadata": {
    "colab": {
      "provenance": []
    },
    "kernelspec": {
      "name": "python3",
      "display_name": "Python 3"
    },
    "language_info": {
      "name": "python"
    }
  },
  "cells": [
    {
      "cell_type": "code",
      "source": [
        "#!pip install pandas geopy ortools numpy permutations combinations"
      ],
      "metadata": {
        "id": "Hfk6kmcQiK5u"
      },
      "execution_count": null,
      "outputs": []
    },
    {
      "cell_type": "code",
      "source": [
        "# Import all libraries\n",
        "import pandas as pd\n",
        "from geopy.distance import geodesic\n",
        "from geopy.geocoders import Nominatim\n",
        "import numpy as np\n",
        "from itertools import permutations, combinations"
      ],
      "metadata": {
        "id": "iuNJAQAliMwi"
      },
      "execution_count": null,
      "outputs": []
    },
    {
      "cell_type": "code",
      "source": [
        "# Read in drivers/passengers csv's\n",
        "drivers = pd.read_csv(\"drivers.csv\")\n",
        "roster_passengers = pd.read_csv(\"passengers.csv\")"
      ],
      "metadata": {
        "id": "bSi-9RV6cKu6"
      },
      "execution_count": null,
      "outputs": []
    },
    {
      "cell_type": "code",
      "source": [
        "# Input the drivers coming\n",
        "driver_names = input(\"Input Names (comma separated): \").split(\",\")  # Split input by commas to get a list\n",
        "driver_names = [name.strip() for name in driver_names]  # Strip any extra whitespace from each name\n",
        "practice_drivers = drivers[drivers[\"Name\"].isin(driver_names)]"
      ],
      "metadata": {
        "id": "K4cOgjN0kJMh"
      },
      "execution_count": null,
      "outputs": []
    },
    {
      "cell_type": "code",
      "source": [
        "# Input the passengers coming\n",
        "passenger_names = input(\"Input Names (comma separated): \").split(\",\")  # Split input by commas to get a list\n",
        "passenger_names = [name.strip() for name in passenger_names]  # Strip any extra whitespace from each name\n",
        "practice_passengers = roster_passengers[roster_passengers[\"Name\"].isin(passenger_names)]"
      ],
      "metadata": {
        "id": "6zuEEasmqsRM"
      },
      "execution_count": null,
      "outputs": []
    },
    {
      "cell_type": "code",
      "source": [
        "geolocator = Nominatim(user_agent=\"geoapiExercises\")"
      ],
      "metadata": {
        "id": "WwXrUP63iiPB"
      },
      "execution_count": null,
      "outputs": []
    },
    {
      "cell_type": "code",
      "source": [
        "# Create a fcn that gets the latitude and longitude for a  given address\n",
        "def get_lat_lon(address):\n",
        "    location = geolocator.geocode(address)\n",
        "    if location:\n",
        "        return (location.latitude, location.longitude)\n",
        "    else:\n",
        "        return None"
      ],
      "metadata": {
        "id": "v0rsPDB9u0qI"
      },
      "execution_count": null,
      "outputs": []
    },
    {
      "cell_type": "code",
      "source": [
        "# Get coordinates for drumlins tennis club (where practices are)\n",
        "# Define the end location\n",
        "drumlins = \"800 Nottingham Rd, Syracuse, NY\"\n",
        "# Get latitude and longitude of the end location\n",
        "end_coords = get_lat_lon(drumlins)"
      ],
      "metadata": {
        "id": "UeSvE_xPu31m"
      },
      "execution_count": null,
      "outputs": []
    },
    {
      "cell_type": "code",
      "source": [
        "# Get the latitude and longitude for all driver start locations\n",
        "driver_locs = practice_drivers['Address'].apply(lambda x: pd.Series(get_lat_lon(x)))\n",
        "practice_drivers.loc[:, \"lat\"] = driver_locs[0]\n",
        "practice_drivers.loc[:, \"lon\"] = driver_locs[1]"
      ],
      "metadata": {
        "id": "PRuHLK3-IDJl"
      },
      "execution_count": null,
      "outputs": []
    },
    {
      "cell_type": "code",
      "source": [
        "# Get the latitude and longitude for all passenger locations\n",
        "passenger_locs = practice_passengers['Address'].apply(lambda x: pd.Series(get_lat_lon(x)))\n",
        "practice_passengers.loc[:, \"lat\"] = passenger_locs[0]\n",
        "practice_passengers.loc[:, \"lon\"] = passenger_locs[1]"
      ],
      "metadata": {
        "id": "68_-Q7hbBqkc"
      },
      "execution_count": null,
      "outputs": []
    },
    {
      "cell_type": "code",
      "source": [
        "# Function to calculate the total distance for a driver's route\n",
        "def calculate_route_distance(driver_loc, passenger_locs):\n",
        "    total_distance = 0 # Initialize distance\n",
        "    route = [driver_loc] + passenger_locs + [end_coords]  # Start at driver, pickup passenger(s), end at destination\n",
        "    for i in range(len(route) - 1): # For each instance in the second-to-last stop until the nth stpo\n",
        "        total_distance += geodesic(route[i], route[i+1]).miles # Calculate the total distance between stops\n",
        "        # Use += to calculate cumulative distance\n",
        "    return total_distance"
      ],
      "metadata": {
        "id": "WkyUDmERKzKy"
      },
      "execution_count": null,
      "outputs": []
    },
    {
      "cell_type": "code",
      "source": [
        "# Helper function to get (lat, lon) tuple from DataFrame row\n",
        "def get_lat_lon(row):\n",
        "    return (row['lat'], row['lon'])"
      ],
      "metadata": {
        "id": "txN6gpbiRXOU"
      },
      "execution_count": null,
      "outputs": []
    },
    {
      "cell_type": "code",
      "source": [
        "# Function to generate all valid passenger assignments given driver capacities\n",
        "def generate_valid_assignments(drivers, passengers):\n",
        "    passenger_count = len(passengers)\n",
        "    driver_capacities = drivers['Passengers'].tolist()\n",
        "\n",
        "    # Create all possible ways to split passengers between drivers\n",
        "    valid_assignments = []\n",
        "\n",
        "    def recursive_split(remaining_passengers, current_assignment, current_driver):\n",
        "        if current_driver == len(driver_capacities): # Has the current driver reached capacity for all drivers\n",
        "            if len(remaining_passengers) == 0: # If there are no remaining passengers, set that as the assignment\n",
        "                valid_assignments.append(current_assignment)\n",
        "            return\n",
        "\n",
        "        max_capacity = driver_capacities[current_driver] # Set the maximum number of passengers a driver can take\n",
        "        for subset_size in range(1, min(len(remaining_passengers), max_capacity) + 1):\n",
        "          # For each possible combination of passengers in the range of 1 to the remaining numer of passengers or maximum capacity\n",
        "            for passenger_subset in combinations(remaining_passengers, subset_size):\n",
        "              # For each possible passenger combinations of the all passengers create unique pairings for each driver\n",
        "                remaining = [p for p in remaining_passengers if p not in passenger_subset]\n",
        "                # Find the remaining passengers if they are not placed in a car\n",
        "                recursive_split(remaining, current_assignment + [list(passenger_subset)], current_driver + 1)\n",
        "                # Apply the function wiht the remaining people, the current passengers assignment, and the next driver\n",
        "\n",
        "    all_passengers = list(range(passenger_count))  # Use passenger indices to assign them\n",
        "    recursive_split(all_passengers, [], 0)\n",
        "\n",
        "    return valid_assignments"
      ],
      "metadata": {
        "id": "DSPt7LrDgQ4e"
      },
      "execution_count": null,
      "outputs": []
    },
    {
      "cell_type": "code",
      "source": [
        "# Function to evaluate all possible routes for all drivers\n",
        "def find_best_routes(drivers, passengers):\n",
        "    # Initialize the best assignment/minimal total distance\n",
        "    best_assignment = None\n",
        "    best_total_distance = float('inf')\n",
        "\n",
        "    # Apply generate_valid_assignments fcn for the drivers/passengers coming to practice\n",
        "    assignments = generate_valid_assignments(drivers, passengers)\n",
        "\n",
        "    for assignment in assignments: # Loop through each possible assignment\n",
        "        total_distance = 0 # Initialize a total_distance\n",
        "        valid = True # Check if all assignments are valid\n",
        "\n",
        "        # Calculate route distance for each driver\n",
        "        for driver_idx, passenger_indices in enumerate(assignment):\n",
        "          # Apply get_lat_lon fcn to get driver/passenger latitudes and longitudes\n",
        "            driver_loc = get_lat_lon(drivers.iloc[driver_idx])\n",
        "            passenger_locs = [get_lat_lon(passengers.iloc[i]) for i in passenger_indices]\n",
        "\n",
        "            # For each permutation of the passenger locations, calculate route distance\n",
        "            best_route_distance = float('inf')\n",
        "            for perm in permutations(passenger_locs): # For each possible permutation\n",
        "                route_distance = calculate_route_distance(driver_loc, list(perm)) # Calculate the total_distance for each possible permutation\n",
        "                best_route_distance = min(best_route_distance, route_distance) # Find the lowest total distance\n",
        "\n",
        "            total_distance += best_route_distance\n",
        "\n",
        "            # If at any point total distance exceeds the current best, skip this assignment (because it will be longer)\n",
        "            if total_distance > best_total_distance:\n",
        "                valid = False\n",
        "                break\n",
        "\n",
        "        # If this assignment is the best, keep it\n",
        "        if valid and total_distance < best_total_distance:\n",
        "            best_total_distance = total_distance\n",
        "            best_assignment = assignment\n",
        "\n",
        "    return best_assignment, best_total_distance"
      ],
      "metadata": {
        "id": "gnbocrKRgckj"
      },
      "execution_count": null,
      "outputs": []
    },
    {
      "cell_type": "code",
      "source": [
        "# Apply fcn to find the optimal routes\n",
        "best_assignment, best_total_distance = find_best_routes(practice_drivers, practice_passengers)"
      ],
      "metadata": {
        "id": "L1w4hsiegnhc"
      },
      "execution_count": null,
      "outputs": []
    },
    {
      "cell_type": "code",
      "source": [
        "# Print out results with pickup locations\n",
        "for driver_idx, passenger_indices in enumerate(best_assignment):\n",
        "    driver_name = practice_drivers.iloc[driver_idx]['Name'] # Get driver names\n",
        "    assigned_passengers = practice_passengers.iloc[passenger_indices].copy() # Get passengers assigned to drivers\n",
        "    # Remove \", Syracuse, NY\"\n",
        "    assigned_passengers.loc[:, 'Address'] = assigned_passengers['Address'].str.replace(\", Syracuse, NY\", \"\", regex=False).str.strip()\n",
        "    # Get passenger addresses\n",
        "    passengers = assigned_passengers[['Name', \"Address\"]] # Subset name/address\n",
        "    print(f\"{driver_name}:\") # Print the driver's name and the passenger/address for each assigned passenger to that driver\n",
        "    for index, row in assigned_passengers.iterrows():\n",
        "      print(f\"{row['Name']} ({row['Address']})\")"
      ],
      "metadata": {
        "id": "Pf6XjR20gtcG"
      },
      "execution_count": null,
      "outputs": []
    }
  ]
}
